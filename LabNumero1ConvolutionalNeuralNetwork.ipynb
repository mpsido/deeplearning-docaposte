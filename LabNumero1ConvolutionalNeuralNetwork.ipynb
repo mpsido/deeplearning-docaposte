{
  "cells": [
    {
      "cell_type": "markdown",
      "metadata": {
        "id": "VhNFp-0y3ej3"
      },
      "source": [
        "## Le deep learning"
      ]
    },
    {
      "cell_type": "markdown",
      "metadata": {
        "id": "tyl8D-uX3ej6"
      },
      "source": [
        "Aujourd'hui, il existe beaucoup de produits dit \"d'Intelligence Artificielle (IA)\", ces applications utilisent majoritairement du Machine Learning (ML), qui est un sous-domaine de l'IA, comme vous pouvez le voir ci-dessous. Le machine learning est un champ d'étude qui permet à des programmes de pouvoir résoudre des problèmes à partir de données sans les avoir explicitement programmé. Le deep learning est seulement un des nombreux algorithmes d'apprentissage du machine learning.\n",
        "\n",
        "<img src=\"https://github.com/MorganGautherot/Tuto_MRI_ML/blob/master/tp_1/data/intelligence_artificielle.png?raw=1\" width=\"400\">"
      ]
    },
    {
      "cell_type": "markdown",
      "metadata": {
        "id": "vmC0mhOS3ej7"
      },
      "source": [
        "Ici, nous allons nous concentrer sur les problèmatiques d'apprentissage supervisé. Nous allons avoir un jeu de données avec des variables explicatives A et des labels B. Le but de notre algorithme, sera d'apprendre à transformer A en B. Comme vous pouvez le voir ci-dessous, la première étape sera l'entraînement, où l'on donnera des données d'entraînement A et B à un algorithme d'apprentissage. Une fois l'entraînement terminé, l'algorithme nous donne un modèle mathématique. Ce modèle pourra prendre des nouvelles données A' afin de pouvoir estimer leurs résultats B'\n",
        "\n",
        "<img src=\"https://github.com/MorganGautherot/Tuto_MRI_ML/blob/master/tp_1/data/machine_learning.png?raw=1\" width=\"600\">\n"
      ]
    },
    {
      "cell_type": "markdown",
      "metadata": {
        "id": "6rPyWIDP3ej8"
      },
      "source": [
        "Le deep learning est un algorithme de machine learning basé sur des neurones artificiels. Ces neurones sont des unités de calculs, ils prenent en entrée des informations, les transforment en une valeur et transmettent cette valeur à d'autres neurones.\n",
        "<img src=\"https://github.com/MorganGautherot/Tuto_MRI_ML/blob/master/tp_1/data/neurone.png?raw=1\" width=\"600\" >\n",
        "\n",
        "\n",
        "Vous pouvez le voir ci-dessous, si l'on met des neurones artificiels en réseau, nous obtenons un réseau de neurones qui permet de prendre en entrée des données A et de changer la représentation de ces données afin de pouvoir transformer plus facilement A en B.\n",
        "\n",
        "<img src=\"https://github.com/MorganGautherot/Tuto_MRI_ML/blob/master/tp_1/data/réseau_de_neurones.png?raw=1\"  width=\"600\" >\n",
        "\n",
        "Initiallement, cet algorithme était censé représenter artificiellement le comportement du cerveau humain. Aujourd'hui, son fonctionnement est bien loin du fonctionnement du cerveau humain même s'il y a encore du vocabulaire hérité de cette inspiration biologique."
      ]
    },
    {
      "cell_type": "markdown",
      "metadata": {
        "id": "x_KBjlsm3ej9"
      },
      "source": [
        "L'avantage du deep learning réside dans la superposition de couches. Cette superposition permet de changer la représentation des données d'entrées de notre réseau pour mettre en valeur différentes caractéristiques de notre jeux de données. Cette nouvelle représentation est élaboré afin de résoudre notre problème plus efficacement. Comme vous pouvez le voir ci-dessous, ça remplace en partie le processus de feature engineering indispensable aux modèles de machines learning classique.\n",
        "\n",
        "<img src=\"https://github.com/MorganGautherot/Tuto_MRI_ML/blob/master/tp_1/data/ml_vs_dl.png?raw=1\" width=\"700\" >\n",
        "\n",
        "Cette force, a permi le développement d'algorithme de deep learning très robuste capable de mieux comprendre les données non structurés tels que du texte, du son et des images."
      ]
    },
    {
      "cell_type": "markdown",
      "metadata": {
        "id": "Qxt848q03ej-"
      },
      "source": [
        "## Les architectures de Convolutional Neural Network (CNN)\n",
        "\n",
        "Comme nous l'avons vue précédemment, le principal avantage des réseaux de neurones par rapport aux algorithmes de machine learning traditionnels est que les algorithmes de deep learning apprennent des représentations par eux-mêmes, alors que dans le machine learning traditionnel, on définie des variables à la main sensés être une meilleure représentation des données. C'est vrai pour les réseaux de neurones de type \"fully connected\" qui ne sont constitués que de couches entièrement connectées. Mais il est très difficile de les entraîner pour des entrées de haute dimension comme les images.\n",
        "\n",
        "Lorsque vous utilisez une architecture de CNN, vous utilisez deux types de fonctionnalités artisanales : les convolutional layers (les filtres de convolution) et les poolign layers (les filtres de regroupement).\n",
        "\n",
        "Le concepteur du CNN pour la classification des images a examiné les données d'entrée (c'est ce que font les ingénieurs en machine learning traditionnels pour inventer des fonctionnalités) et a décidé que des patchs de pixels proches les uns des autres contiennent des informations qui pourraient aider à la classification, et en même temps réduire le nombre de paramètres. Vous pouvez voir l'application d'un patch sur une image ci-dessous.\n",
        "\n",
        "<img src=\"https://github.com/MorganGautherot/Tuto_MRI_ML/blob/master/tp_1/data/application_de_patchs.gif?raw=1\" width=\"500\" >\n",
        "\n",
        "En effet, l'application de patchs sur une image permet de transformer l'image et de faire ressortir certaines de ces caractéristiques comme vous pouvez le voir ci-dessous.\n",
        "\n",
        "<img src=\"https://github.com/MorganGautherot/Tuto_MRI_ML/blob/master/tp_1/data/filters.png?raw=1\" width=\"500\" >"
      ]
    },
    {
      "cell_type": "markdown",
      "metadata": {
        "id": "Y4Fa3ReO3ej_"
      },
      "source": [
        "Le but du CNN est de transformer notre image de départ en vecteur qui serait la représentation vectorielle des caractéristiques de notre image.\n",
        "\n",
        "<img src=\"https://github.com/MorganGautherot/Tuto_MRI_ML/blob/master/tp_1/data/conv_nn.png?raw=1\" width=\"600\" >\n",
        "\n",
        "Une fois que nous avons extrait les caractéristiques de notre image sous forme de vecteur, nous pouvons utiliser cette représentation afin de résoudre un problème lié à notre image. Sur l'illustration ci-dessous, vous pouvez bien voir les deux différentes parties qui consistuent notre réseau.\n",
        "\n",
        "<img src=\"https://github.com/MorganGautherot/Tuto_MRI_ML/blob/master/tp_1/data/CNN.png?raw=1\" width=\"800\" >"
      ]
    },
    {
      "cell_type": "markdown",
      "metadata": {
        "id": "AV1ot3Xk3ekA"
      },
      "source": [
        "## Exemple CNN"
      ]
    },
    {
      "cell_type": "markdown",
      "metadata": {
        "id": "W6qKwqUq3ekB"
      },
      "source": [
        "Ne vous inquiétez pas, vous n'allez pas avoir besoin de connaître toutes les mathématiques qui se cachent derrière les réseaux convolutionel pour pouvoir les utiliser.\n",
        "Grâce à Tensorflow et sa sur-couche Keras, vous pouvez construire un modèle en quelques cliques.\n",
        "\n",
        "### Sélection du matériel\n",
        "\n",
        "Avant de commencer nous allons sélectionné le matériel adapté à nos calculs. Le deep learning à besoin de cartes graphiques (GPU) afin de réduire le temps de calculs.\n",
        "\n",
        "Appuyer sur \"Exécution\" -> \"Modifier le type d'exécution\"\n",
        "\n",
        "Dans \"Accélérateur matériel\" sélectionnez GPU puis appuyer sur enregistrer.\n",
        "\n",
        "### Importation des packages\n",
        "\n",
        "On va commencer par importer les packages nécessaires à l'élaboration de notre modèle."
      ]
    },
    {
      "cell_type": "code",
      "execution_count": null,
      "metadata": {
        "id": "DW0-qPLH3ekC"
      },
      "outputs": [],
      "source": [
        "import math\n",
        "import numpy as np\n",
        "import h5py\n",
        "import matplotlib.pyplot as plt\n",
        "import scipy\n",
        "from PIL import Image\n",
        "from scipy import ndimage\n",
        "import tensorflow as tf\n",
        "from tensorflow.python.framework import ops\n",
        "\n",
        "import matplotlib.pyplot as plt\n",
        "import numpy as np\n",
        "from tensorflow.keras.optimizers import SGD\n",
        "from tensorflow.keras.models import Sequential\n",
        "from tensorflow.keras.layers import Dense, Dropout, Flatten\n",
        "from tensorflow.keras.layers import Conv2D, MaxPooling2D\n"
      ]
    },
    {
      "cell_type": "markdown",
      "metadata": {
        "id": "HNTkfXAk3ekH"
      },
      "source": [
        "### Importations des données\n",
        "\n",
        "Maintenant que nos outils sont chargés, nous allons charger nos données.\n",
        "\n"
      ]
    },
    {
      "cell_type": "markdown",
      "metadata": {
        "id": "ATBazqHW3ekI"
      },
      "source": [
        "Exécutez la cellule ci-dessous et appuyer sur le lien proposé.\n",
        "\n",
        "Suivez les instructions et copier le code ci-dessous."
      ]
    },
    {
      "cell_type": "code",
      "execution_count": null,
      "metadata": {
        "colab": {
          "base_uri": "https://localhost:8080/"
        },
        "id": "dxvb9XSi3ekJ",
        "outputId": "747e9397-3630-4cfc-ffd5-25c0e84c3cd6"
      },
      "outputs": [
        {
          "output_type": "stream",
          "name": "stdout",
          "text": [
            "Mounted at /content/gdrive/\n"
          ]
        }
      ],
      "source": [
        "from google.colab import drive\n",
        "drive.mount('/content/gdrive/')"
      ]
    },
    {
      "cell_type": "markdown",
      "metadata": {
        "id": "QzuUN6Au3ekM"
      },
      "source": [
        "Les données sont maintenant dans votre environnement collab."
      ]
    },
    {
      "cell_type": "code",
      "execution_count": null,
      "metadata": {
        "id": "MJJZb0b23ekN"
      },
      "outputs": [],
      "source": [
        "train_dataset = h5py.File('/content/gdrive/My Drive/tp_1/data/train_signs.h5', \"r\")\n",
        "train_set_x_orig = np.array(train_dataset[\"train_set_x\"][:])\n",
        "train_set_y_orig = np.array(train_dataset[\"train_set_y\"][:])\n",
        "\n",
        "test_dataset = h5py.File('/content/gdrive/My Drive/tp_1/data/test_signs.h5', \"r\")\n",
        "test_set_x_orig = np.array(test_dataset[\"test_set_x\"][:])\n",
        "test_set_y_orig = np.array(test_dataset[\"test_set_y\"][:])\n",
        "\n",
        "classes = np.array(test_dataset[\"list_classes\"][:])\n",
        "\n",
        "train_set_y_orig = train_set_y_orig.reshape((1, train_set_y_orig.shape[0]))\n",
        "test_set_y_orig = test_set_y_orig.reshape((1, test_set_y_orig.shape[0]))\n",
        "\n",
        "input_shape = train_set_x_orig[0].shape"
      ]
    },
    {
      "cell_type": "markdown",
      "metadata": {
        "id": "f7-aMDKa3ekQ"
      },
      "source": [
        "Dans cet exemple, nous allons créer un modèle de deep learning capable de reconnaître quel chiffre fait la main sur une photo. Comme vous pouvez le voir ci-dessous, nous avons 5 classes.\n",
        "\n",
        "<img src=\"https://github.com/MorganGautherot/Tuto_MRI_ML/blob/master/tp_1/data/signes.png?raw=1\" width=\"800\" >"
      ]
    },
    {
      "cell_type": "markdown",
      "metadata": {
        "id": "FxNNs6_e3ekR"
      },
      "source": [
        "Vous pouvez directement voir les exemples depuis le jeu de données."
      ]
    },
    {
      "cell_type": "code",
      "execution_count": null,
      "metadata": {
        "colab": {
          "base_uri": "https://localhost:8080/",
          "height": 450
        },
        "id": "qAzk8yLr3ekS",
        "outputId": "ad3979bb-b086-4c1b-a598-95c2cc5b1ff4"
      },
      "outputs": [
        {
          "output_type": "stream",
          "name": "stdout",
          "text": [
            "y = 5\n"
          ]
        },
        {
          "output_type": "display_data",
          "data": {
            "text/plain": [
              "<Figure size 640x480 with 1 Axes>"
            ],
            "image/png": "[encoded data removed]"
          },
          "metadata": {}
        }
      ],
      "source": [
        "# Example of a picture\n",
        "index = 0\n",
        "plt.imshow(train_set_x_orig[index])\n",
        "print (\"y = \" + str(np.squeeze(train_set_y_orig[:, index])))"
      ]
    },
    {
      "cell_type": "markdown",
      "metadata": {
        "id": "FnwfVfnp3ekU"
      },
      "source": [
        "Vous pouvez voir ci-dessous que nos images sont en trois dimensions 64 x 64 x 3.\n",
        "\n",
        "La première dimension de 64 correspond à la hauteur en pixel de la photo, ici 64 pixels.\n",
        "\n",
        "La deuxième dimension de 64 correspond à la largeur en pixel de la photo, ici 64 pixels.\n",
        "\n",
        "La troisième dimension correspond aux intensités de rouge, de vert et de bleu nécessaires pour former la couleur du pixel.\n",
        "\n",
        "<img src=\"https://github.com/MorganGautherot/Tuto_MRI_ML/blob/master/tp_1/data/RGB-color-model.jpg?raw=1\" width=\"300\" >"
      ]
    },
    {
      "cell_type": "code",
      "execution_count": null,
      "metadata": {
        "colab": {
          "base_uri": "https://localhost:8080/"
        },
        "id": "cbzNSm_u3ekV",
        "outputId": "cf84e122-ca5f-4190-a6be-342931e6ebce"
      },
      "outputs": [
        {
          "output_type": "stream",
          "name": "stdout",
          "text": [
            "(64, 64, 3)\n"
          ]
        }
      ],
      "source": [
        "print(train_set_x_orig[0].shape)"
      ]
    },
    {
      "cell_type": "markdown",
      "metadata": {
        "id": "-e_1NNZU3ekY"
      },
      "source": [
        "Pour créer des images en informatique, il n'y a pas une intensité par couleur, ce serait trop complexe à organiser. Pour remédier à cela, nous avons pris trois couleurs (rouge, vert et bleu) et chaque couleur sera une combinaison d'intensité de ces trois couleurs. Le schéma ci-dessous va sûrement vous aider à comprendre le problème.\n",
        "\n",
        "<img src=\"https://github.com/MorganGautherot/Tuto_MRI_ML/blob/master/tp_1/data/image_en_rgb.png?raw=1\" width=\"600\" >"
      ]
    },
    {
      "cell_type": "markdown",
      "metadata": {
        "id": "5cWtHwvk3ekZ"
      },
      "source": [
        "### Normalisation\n",
        "\n",
        "Pour des raisons d'optimisation, nous voulons que les données d'entrées de notre modèle soient normalisées.\n",
        "\n",
        "La bonne nouvelle, c'est que les intensités d'une image sont toujours comprises entre 0 et 255. Nous allons donc utiliser la min-max normalisation afin de réduire la valeur des intensités de nos images."
      ]
    },
    {
      "cell_type": "code",
      "execution_count": null,
      "metadata": {
        "colab": {
          "base_uri": "https://localhost:8080/"
        },
        "id": "ffHEnaSA3ekc",
        "outputId": "35c57c38-a0c3-4965-9544-4526ff242c99"
      },
      "outputs": [
        {
          "output_type": "stream",
          "name": "stdout",
          "text": [
            "Valeur maximum de nos images :  4\n",
            "Valeur minimum de nos images :  244\n",
            "Valeur maximum de nos images normalisées :  0.015686275\n",
            "Valeur minimum de nos images normalisées :  0.95686275\n"
          ]
        }
      ],
      "source": [
        "print('Valeur maximum de nos images : ',np.min(train_set_x_orig))\n",
        "print('Valeur minimum de nos images : ', np.max(train_set_x_orig))\n",
        "\n",
        "X_train = train_set_x_orig.astype('float32')/255\n",
        "X_test = test_set_x_orig.astype('float32')/255\n",
        "\n",
        "print('Valeur maximum de nos images normalisées : ',np.min(X_train))\n",
        "print('Valeur minimum de nos images normalisées : ',np.max(X_train))"
      ]
    },
    {
      "cell_type": "markdown",
      "metadata": {
        "id": "VFkIIe363eke"
      },
      "source": [
        "Dans nos vecteurs \"train_set_y_orig\" et \"test_set_y_orig\" nous avons le chiffre correspondant à l'image de la main.\n",
        "\n",
        "Nous allons transformer nos valeurs en hot vecteur, c'est-à-dire au lieu d'avoir la valeur 5 on aura un vecteur avec un 1 à la 6ème case.\n",
        "\n",
        "<img src=\"https://github.com/MorganGautherot/Tuto_MRI_ML/blob/master/tp_1/data/hot_vecteur.png?raw=1\" width=\"800\" >"
      ]
    },
    {
      "cell_type": "code",
      "execution_count": null,
      "metadata": {
        "colab": {
          "base_uri": "https://localhost:8080/"
        },
        "id": "-GzAtEE83ekf",
        "outputId": "32688469-ff5d-4afb-a905-953775ae9ebb"
      },
      "outputs": [
        {
          "output_type": "stream",
          "name": "stdout",
          "text": [
            "(1, 1080)\n",
            "(1, 120)\n"
          ]
        }
      ],
      "source": [
        "print(train_set_y_orig.shape)\n",
        "print(test_set_y_orig.shape)"
      ]
    },
    {
      "cell_type": "code",
      "execution_count": null,
      "metadata": {
        "colab": {
          "base_uri": "https://localhost:8080/"
        },
        "id": "jZ3u2Ha13ekh",
        "outputId": "1cb85878-e984-4e03-e023-0284520b5b02"
      },
      "outputs": [
        {
          "output_type": "stream",
          "name": "stdout",
          "text": [
            "[0. 0. 0. 1. 0. 0.]\n",
            "[3]\n"
          ]
        }
      ],
      "source": [
        "Y_train = np.eye(6)[train_set_y_orig.reshape(-1)]\n",
        "Y_test = np.eye(6)[test_set_y_orig.reshape(-1)]\n",
        "print(Y_train[150, :])\n",
        "print((train_set_y_orig[:, 150]))"
      ]
    },
    {
      "cell_type": "markdown",
      "metadata": {
        "id": "_szJ9Aob3ekk"
      },
      "source": [
        "### Construction de notre modèle"
      ]
    },
    {
      "cell_type": "markdown",
      "metadata": {
        "id": "AuV1On6r3ekk"
      },
      "source": [
        "Ici nous allons créer un modèle basique de CNN."
      ]
    },
    {
      "cell_type": "code",
      "execution_count": null,
      "metadata": {
        "id": "fPTbk3sh3ekl"
      },
      "outputs": [],
      "source": [
        "model = Sequential()"
      ]
    },
    {
      "cell_type": "markdown",
      "metadata": {
        "id": "p3ZrNjPY3eko"
      },
      "source": [
        "Nous allons commencer notre modèle par une couche de convolution. Comme vous pouvez voir ci-dessous, c'est simplement l'application d'un filtre sur notre image pour extraire des caractéristiques.\n",
        "\n",
        "<img src=\"https://github.com/MorganGautherot/Tuto_MRI_ML/blob/master/tp_1/data/convolution_anim.gif?raw=1\" width=\"800\" >"
      ]
    },
    {
      "cell_type": "code",
      "execution_count": null,
      "metadata": {
        "id": "LY_ZTUy83ekp"
      },
      "outputs": [],
      "source": [
        "model.add(Conv2D(32,\n",
        "                 kernel_size=(3, 3),\n",
        "                 activation='relu',\n",
        "                 input_shape=(64,64,3)))\n",
        "model.add(Conv2D(32,\n",
        "                 kernel_size=(3, 3),\n",
        "                 activation='relu',\n",
        "                 input_shape=(64,64,3)))"
      ]
    },
    {
      "cell_type": "markdown",
      "metadata": {
        "id": "GlheyBYU3ekr"
      },
      "source": [
        "Nous allons maintenant ajouter une couche de max-pooling. Comme vous pouvez voir ci-dessous, c'est simplement la sélection de l'intensité la plus grande parmi une sélection de pixels.\n",
        "\n",
        "<img src=\"https://github.com/MorganGautherot/Tuto_MRI_ML/blob/master/tp_1/data/pooling_anim.gif?raw=1\" width=\"800\" >"
      ]
    },
    {
      "cell_type": "code",
      "execution_count": null,
      "metadata": {
        "id": "r0veTzeM3eks"
      },
      "outputs": [],
      "source": [
        "model.add(MaxPooling2D(pool_size=(2, 2)))"
      ]
    },
    {
      "cell_type": "markdown",
      "metadata": {
        "id": "EeeXcqM53eku"
      },
      "source": [
        "Maintenant que nous avons extrait des informations de notre image, nous allons transformer ces représentations en vecteur.\n",
        "\n",
        "<img src=\"https://github.com/MorganGautherot/Tuto_MRI_ML/blob/master/tp_1/data/flatten.gif?raw=1\" width=\"500\" >"
      ]
    },
    {
      "cell_type": "code",
      "execution_count": null,
      "metadata": {
        "id": "sB8oY1au3ekv"
      },
      "outputs": [],
      "source": [
        "model.add(Flatten())"
      ]
    },
    {
      "cell_type": "markdown",
      "metadata": {
        "id": "AlOWsYGi3eky"
      },
      "source": [
        "Pour finir, nous allons utiliser des couches entièrement connectées pour prédire l'appartenance de nos observations à nos classes.\n",
        "\n",
        "<img src=\"https://github.com/MorganGautherot/Tuto_MRI_ML/blob/master/tp_1/data/fully_connected.png?raw=1\" width=\"500\" >"
      ]
    },
    {
      "cell_type": "code",
      "execution_count": null,
      "metadata": {
        "id": "Z87lJOIB3eky"
      },
      "outputs": [],
      "source": [
        "model.add(Dense(6, activation='softmax'))"
      ]
    },
    {
      "cell_type": "markdown",
      "metadata": {
        "id": "2Ixeu8bi3ek1"
      },
      "source": [
        "Notre modèle est assemblé, nous pouvons maintenant le visualiser."
      ]
    },
    {
      "cell_type": "code",
      "execution_count": null,
      "metadata": {
        "colab": {
          "base_uri": "https://localhost:8080/"
        },
        "id": "ACtAy0ph3ek2",
        "outputId": "b1448179-8422-49b6-81ae-7bed54e36cf9"
      },
      "outputs": [
        {
          "output_type": "stream",
          "name": "stdout",
          "text": [
            "Model: \"sequential\"\n",
            "_________________________________________________________________\n",
            " Layer (type)                Output Shape              Param #   \n",
            "=================================================================\n",
            " conv2d (Conv2D)             (None, 62, 62, 32)        896       \n",
            "                                                                 \n",
            " conv2d_1 (Conv2D)           (None, 60, 60, 32)        9248      \n",
            "                                                                 \n",
            " max_pooling2d (MaxPooling2  (None, 30, 30, 32)        0         \n",
            " D)                                                              \n",
            "                                                                 \n",
            " flatten (Flatten)           (None, 28800)             0         \n",
            "                                                                 \n",
            " dense (Dense)               (None, 6)                 172806    \n",
            "                                                                 \n",
            "=================================================================\n",
            "Total params: 182950 (714.65 KB)\n",
            "Trainable params: 182950 (714.65 KB)\n",
            "Non-trainable params: 0 (0.00 Byte)\n",
            "_________________________________________________________________\n"
          ]
        }
      ],
      "source": [
        "model.summary()"
      ]
    },
    {
      "cell_type": "markdown",
      "metadata": {
        "id": "LzJr3QHV3ek4"
      },
      "source": [
        "Voici une représentation plus visuelle du modèle.\n",
        "\n",
        "<img src=\"https://github.com/MorganGautherot/Tuto_MRI_ML/blob/master/tp_1/data/baseline.png?raw=1\" width=\"800\" >"
      ]
    },
    {
      "cell_type": "markdown",
      "metadata": {
        "id": "Fhq9mk3A3ek4"
      },
      "source": [
        "Nous voilà à la dernière étape, l'entraînement de notre modèle."
      ]
    },
    {
      "cell_type": "code",
      "execution_count": null,
      "metadata": {
        "colab": {
          "base_uri": "https://localhost:8080/"
        },
        "id": "z1z-n9Ob3ek5",
        "outputId": "38dfe191-b03e-4a42-b93c-ea0270ab1851"
      },
      "outputs": [
        {
          "output_type": "stream",
          "name": "stderr",
          "text": [
            "WARNING:absl:`lr` is deprecated in Keras optimizer, please use `learning_rate` or use the legacy optimizer, e.g.,tf.keras.optimizers.legacy.SGD.\n"
          ]
        },
        {
          "output_type": "stream",
          "name": "stdout",
          "text": [
            "Epoch 1/100\n",
            "34/34 [==============================] - 10s 21ms/step - loss: 1.8028 - accuracy: 0.1843 - val_loss: 1.7849 - val_accuracy: 0.1833\n",
            "Epoch 2/100\n",
            "34/34 [==============================] - 0s 8ms/step - loss: 1.7700 - accuracy: 0.2194 - val_loss: 1.7497 - val_accuracy: 0.2833\n",
            "Epoch 3/100\n",
            "34/34 [==============================] - 0s 8ms/step - loss: 1.7325 - accuracy: 0.2778 - val_loss: 1.7019 - val_accuracy: 0.3083\n",
            "Epoch 4/100\n",
            "34/34 [==============================] - 0s 9ms/step - loss: 1.6767 - accuracy: 0.2954 - val_loss: 1.6444 - val_accuracy: 0.3000\n",
            "Epoch 5/100\n",
            "34/34 [==============================] - 0s 8ms/step - loss: 1.5755 - accuracy: 0.3676 - val_loss: 1.5388 - val_accuracy: 0.2750\n",
            "Epoch 6/100\n",
            "34/34 [==============================] - 0s 8ms/step - loss: 1.4705 - accuracy: 0.4296 - val_loss: 1.3921 - val_accuracy: 0.5250\n",
            "Epoch 7/100\n",
            "34/34 [==============================] - 0s 7ms/step - loss: 1.3764 - accuracy: 0.4611 - val_loss: 1.4085 - val_accuracy: 0.3917\n",
            "Epoch 8/100\n",
            "34/34 [==============================] - 0s 8ms/step - loss: 1.2544 - accuracy: 0.5269 - val_loss: 1.1814 - val_accuracy: 0.6333\n",
            "Epoch 9/100\n",
            "34/34 [==============================] - 0s 8ms/step - loss: 1.1248 - accuracy: 0.5750 - val_loss: 1.1133 - val_accuracy: 0.5667\n",
            "Epoch 10/100\n",
            "34/34 [==============================] - 0s 9ms/step - loss: 1.0531 - accuracy: 0.6241 - val_loss: 1.0287 - val_accuracy: 0.6750\n",
            "Epoch 11/100\n",
            "34/34 [==============================] - 0s 10ms/step - loss: 0.9506 - accuracy: 0.6694 - val_loss: 1.1120 - val_accuracy: 0.5667\n",
            "Epoch 12/100\n",
            "34/34 [==============================] - 0s 9ms/step - loss: 0.9223 - accuracy: 0.6769 - val_loss: 0.9902 - val_accuracy: 0.5750\n",
            "Epoch 13/100\n",
            "34/34 [==============================] - 0s 9ms/step - loss: 0.8546 - accuracy: 0.7009 - val_loss: 0.9167 - val_accuracy: 0.6083\n",
            "Epoch 14/100\n",
            "34/34 [==============================] - 0s 8ms/step - loss: 0.7399 - accuracy: 0.7565 - val_loss: 0.7749 - val_accuracy: 0.7833\n",
            "Epoch 15/100\n",
            "34/34 [==============================] - 0s 10ms/step - loss: 0.7451 - accuracy: 0.7556 - val_loss: 1.0254 - val_accuracy: 0.5917\n",
            "Epoch 16/100\n",
            "34/34 [==============================] - 0s 9ms/step - loss: 0.6506 - accuracy: 0.7861 - val_loss: 0.7676 - val_accuracy: 0.7417\n",
            "Epoch 17/100\n",
            "34/34 [==============================] - 0s 9ms/step - loss: 0.6028 - accuracy: 0.8019 - val_loss: 0.7818 - val_accuracy: 0.7083\n",
            "Epoch 18/100\n",
            "34/34 [==============================] - 0s 9ms/step - loss: 0.5664 - accuracy: 0.8120 - val_loss: 0.7936 - val_accuracy: 0.7000\n",
            "Epoch 19/100\n",
            "34/34 [==============================] - 0s 9ms/step - loss: 0.5463 - accuracy: 0.8324 - val_loss: 0.6233 - val_accuracy: 0.8167\n",
            "Epoch 20/100\n",
            "34/34 [==============================] - 0s 9ms/step - loss: 0.5136 - accuracy: 0.8296 - val_loss: 0.6017 - val_accuracy: 0.8083\n",
            "Epoch 21/100\n",
            "34/34 [==============================] - 0s 9ms/step - loss: 0.4499 - accuracy: 0.8565 - val_loss: 0.7437 - val_accuracy: 0.7333\n",
            "Epoch 22/100\n",
            "34/34 [==============================] - 0s 10ms/step - loss: 0.4024 - accuracy: 0.8750 - val_loss: 0.6152 - val_accuracy: 0.8417\n",
            "Epoch 23/100\n",
            "34/34 [==============================] - 0s 10ms/step - loss: 0.3898 - accuracy: 0.8741 - val_loss: 0.5266 - val_accuracy: 0.8333\n",
            "Epoch 24/100\n",
            "34/34 [==============================] - 0s 9ms/step - loss: 0.4218 - accuracy: 0.8676 - val_loss: 0.5647 - val_accuracy: 0.8167\n",
            "Epoch 25/100\n",
            "34/34 [==============================] - 0s 9ms/step - loss: 0.3640 - accuracy: 0.8870 - val_loss: 0.5517 - val_accuracy: 0.8167\n",
            "Epoch 26/100\n",
            "34/34 [==============================] - 0s 10ms/step - loss: 0.3174 - accuracy: 0.9028 - val_loss: 0.5677 - val_accuracy: 0.8250\n",
            "Epoch 27/100\n",
            "34/34 [==============================] - 0s 10ms/step - loss: 1.1709 - accuracy: 0.7241 - val_loss: 1.4826 - val_accuracy: 0.4500\n",
            "Epoch 28/100\n",
            "34/34 [==============================] - 0s 8ms/step - loss: 0.8988 - accuracy: 0.7315 - val_loss: 0.8026 - val_accuracy: 0.7667\n",
            "Epoch 29/100\n",
            "34/34 [==============================] - 0s 8ms/step - loss: 0.6535 - accuracy: 0.7944 - val_loss: 0.7461 - val_accuracy: 0.7583\n",
            "Epoch 30/100\n",
            "34/34 [==============================] - 0s 8ms/step - loss: 0.6542 - accuracy: 0.7843 - val_loss: 0.7137 - val_accuracy: 0.7667\n",
            "Epoch 31/100\n",
            "34/34 [==============================] - 0s 8ms/step - loss: 0.4753 - accuracy: 0.8491 - val_loss: 0.6190 - val_accuracy: 0.7833\n",
            "Epoch 32/100\n",
            "34/34 [==============================] - 0s 8ms/step - loss: 0.4954 - accuracy: 0.8296 - val_loss: 0.8838 - val_accuracy: 0.6833\n",
            "Epoch 33/100\n",
            "34/34 [==============================] - 0s 8ms/step - loss: 0.3814 - accuracy: 0.8870 - val_loss: 0.5709 - val_accuracy: 0.8583\n",
            "Epoch 34/100\n",
            "34/34 [==============================] - 0s 8ms/step - loss: 0.5209 - accuracy: 0.8250 - val_loss: 2.5411 - val_accuracy: 0.4917\n",
            "Epoch 35/100\n",
            "34/34 [==============================] - 0s 8ms/step - loss: 0.3835 - accuracy: 0.9000 - val_loss: 0.4791 - val_accuracy: 0.8667\n",
            "Epoch 36/100\n",
            "34/34 [==============================] - 0s 8ms/step - loss: 0.2272 - accuracy: 0.9472 - val_loss: 0.5413 - val_accuracy: 0.8167\n",
            "Epoch 37/100\n",
            "34/34 [==============================] - 0s 8ms/step - loss: 0.2107 - accuracy: 0.9407 - val_loss: 0.4923 - val_accuracy: 0.8500\n",
            "Epoch 38/100\n",
            "34/34 [==============================] - 0s 9ms/step - loss: 0.1878 - accuracy: 0.9546 - val_loss: 0.4601 - val_accuracy: 0.8833\n",
            "Epoch 39/100\n",
            "34/34 [==============================] - 0s 8ms/step - loss: 0.2131 - accuracy: 0.9407 - val_loss: 0.4360 - val_accuracy: 0.8917\n",
            "Epoch 40/100\n",
            "34/34 [==============================] - 0s 8ms/step - loss: 0.1732 - accuracy: 0.9556 - val_loss: 0.5121 - val_accuracy: 0.8083\n",
            "Epoch 41/100\n",
            "34/34 [==============================] - 0s 8ms/step - loss: 0.2001 - accuracy: 0.9361 - val_loss: 0.4940 - val_accuracy: 0.8417\n",
            "Epoch 42/100\n",
            "34/34 [==============================] - 0s 8ms/step - loss: 0.2083 - accuracy: 0.9343 - val_loss: 0.4199 - val_accuracy: 0.9000\n",
            "Epoch 43/100\n",
            "34/34 [==============================] - 0s 8ms/step - loss: 0.1246 - accuracy: 0.9713 - val_loss: 0.4335 - val_accuracy: 0.8667\n",
            "Epoch 44/100\n",
            "34/34 [==============================] - 0s 8ms/step - loss: 0.1239 - accuracy: 0.9685 - val_loss: 0.4376 - val_accuracy: 0.8667\n",
            "Epoch 45/100\n",
            "34/34 [==============================] - 0s 8ms/step - loss: 0.1158 - accuracy: 0.9713 - val_loss: 0.4127 - val_accuracy: 0.8917\n",
            "Epoch 46/100\n",
            "34/34 [==============================] - 0s 8ms/step - loss: 0.1067 - accuracy: 0.9731 - val_loss: 0.4610 - val_accuracy: 0.8833\n",
            "Epoch 47/100\n",
            "34/34 [==============================] - 0s 8ms/step - loss: 0.1007 - accuracy: 0.9796 - val_loss: 0.4741 - val_accuracy: 0.8417\n",
            "Epoch 48/100\n",
            "34/34 [==============================] - 0s 8ms/step - loss: 0.2366 - accuracy: 0.9222 - val_loss: 0.6211 - val_accuracy: 0.7833\n",
            "Epoch 49/100\n",
            "34/34 [==============================] - 0s 8ms/step - loss: 0.0979 - accuracy: 0.9722 - val_loss: 0.3987 - val_accuracy: 0.9000\n",
            "Epoch 50/100\n",
            "34/34 [==============================] - 0s 8ms/step - loss: 0.0855 - accuracy: 0.9787 - val_loss: 0.5624 - val_accuracy: 0.8000\n",
            "Epoch 51/100\n",
            "34/34 [==============================] - 0s 8ms/step - loss: 0.0749 - accuracy: 0.9833 - val_loss: 0.4711 - val_accuracy: 0.8833\n",
            "Epoch 52/100\n",
            "34/34 [==============================] - 0s 8ms/step - loss: 0.0781 - accuracy: 0.9824 - val_loss: 0.4168 - val_accuracy: 0.8833\n",
            "Epoch 53/100\n",
            "34/34 [==============================] - 0s 8ms/step - loss: 0.0669 - accuracy: 0.9861 - val_loss: 0.4409 - val_accuracy: 0.8750\n",
            "Epoch 54/100\n",
            "34/34 [==============================] - 0s 8ms/step - loss: 0.0528 - accuracy: 0.9935 - val_loss: 0.5589 - val_accuracy: 0.8417\n",
            "Epoch 55/100\n",
            "34/34 [==============================] - 0s 8ms/step - loss: 0.0482 - accuracy: 0.9944 - val_loss: 0.4968 - val_accuracy: 0.8500\n",
            "Epoch 56/100\n",
            "34/34 [==============================] - 0s 8ms/step - loss: 0.0465 - accuracy: 0.9954 - val_loss: 0.5418 - val_accuracy: 0.8250\n",
            "Epoch 57/100\n",
            "34/34 [==============================] - 0s 8ms/step - loss: 0.0433 - accuracy: 0.9963 - val_loss: 0.4278 - val_accuracy: 0.8917\n",
            "Epoch 58/100\n",
            "34/34 [==============================] - 0s 8ms/step - loss: 0.0377 - accuracy: 0.9981 - val_loss: 0.4416 - val_accuracy: 0.8917\n",
            "Epoch 59/100\n",
            "34/34 [==============================] - 0s 8ms/step - loss: 0.0374 - accuracy: 0.9954 - val_loss: 0.4338 - val_accuracy: 0.9083\n",
            "Epoch 60/100\n",
            "34/34 [==============================] - 0s 8ms/step - loss: 0.0407 - accuracy: 0.9907 - val_loss: 0.4218 - val_accuracy: 0.9167\n",
            "Epoch 61/100\n",
            "34/34 [==============================] - 0s 8ms/step - loss: 0.0319 - accuracy: 0.9991 - val_loss: 0.4383 - val_accuracy: 0.9000\n",
            "Epoch 62/100\n",
            "34/34 [==============================] - 0s 8ms/step - loss: 0.0297 - accuracy: 0.9981 - val_loss: 0.4548 - val_accuracy: 0.8917\n",
            "Epoch 63/100\n",
            "34/34 [==============================] - 0s 8ms/step - loss: 0.0410 - accuracy: 0.9917 - val_loss: 0.4680 - val_accuracy: 0.8917\n",
            "Epoch 64/100\n",
            "34/34 [==============================] - 0s 9ms/step - loss: 0.0289 - accuracy: 0.9972 - val_loss: 0.4446 - val_accuracy: 0.8917\n",
            "Epoch 65/100\n",
            "34/34 [==============================] - 0s 9ms/step - loss: 0.0248 - accuracy: 1.0000 - val_loss: 0.4492 - val_accuracy: 0.9083\n",
            "Epoch 66/100\n",
            "34/34 [==============================] - 0s 9ms/step - loss: 0.0231 - accuracy: 0.9991 - val_loss: 0.4677 - val_accuracy: 0.9000\n",
            "Epoch 67/100\n",
            "34/34 [==============================] - 0s 9ms/step - loss: 0.0235 - accuracy: 1.0000 - val_loss: 0.4691 - val_accuracy: 0.8917\n",
            "Epoch 68/100\n",
            "34/34 [==============================] - 0s 9ms/step - loss: 0.0199 - accuracy: 1.0000 - val_loss: 0.4761 - val_accuracy: 0.9083\n",
            "Epoch 69/100\n",
            "34/34 [==============================] - 0s 10ms/step - loss: 0.0203 - accuracy: 1.0000 - val_loss: 0.4619 - val_accuracy: 0.8917\n",
            "Epoch 70/100\n",
            "34/34 [==============================] - 0s 10ms/step - loss: 0.0172 - accuracy: 1.0000 - val_loss: 0.4695 - val_accuracy: 0.8833\n",
            "Epoch 71/100\n",
            "34/34 [==============================] - 0s 11ms/step - loss: 0.0159 - accuracy: 1.0000 - val_loss: 0.5338 - val_accuracy: 0.8583\n",
            "Epoch 72/100\n",
            "34/34 [==============================] - 0s 9ms/step - loss: 0.0169 - accuracy: 1.0000 - val_loss: 0.4751 - val_accuracy: 0.9000\n",
            "Epoch 73/100\n",
            "34/34 [==============================] - 0s 11ms/step - loss: 0.0159 - accuracy: 1.0000 - val_loss: 0.5048 - val_accuracy: 0.8750\n",
            "Epoch 74/100\n",
            "34/34 [==============================] - 0s 11ms/step - loss: 0.0150 - accuracy: 1.0000 - val_loss: 0.4747 - val_accuracy: 0.8917\n",
            "Epoch 75/100\n",
            "34/34 [==============================] - 0s 10ms/step - loss: 0.0133 - accuracy: 1.0000 - val_loss: 0.5156 - val_accuracy: 0.8750\n",
            "Epoch 76/100\n",
            "34/34 [==============================] - 0s 10ms/step - loss: 0.0129 - accuracy: 1.0000 - val_loss: 0.4902 - val_accuracy: 0.9000\n",
            "Epoch 77/100\n",
            "34/34 [==============================] - 0s 10ms/step - loss: 0.0124 - accuracy: 1.0000 - val_loss: 0.4843 - val_accuracy: 0.9000\n",
            "Epoch 78/100\n",
            "34/34 [==============================] - 0s 10ms/step - loss: 0.0118 - accuracy: 1.0000 - val_loss: 0.4851 - val_accuracy: 0.9167\n",
            "Epoch 79/100\n",
            "34/34 [==============================] - 0s 10ms/step - loss: 0.0117 - accuracy: 1.0000 - val_loss: 0.5052 - val_accuracy: 0.9000\n",
            "Epoch 80/100\n",
            "34/34 [==============================] - 0s 11ms/step - loss: 0.0111 - accuracy: 1.0000 - val_loss: 0.5119 - val_accuracy: 0.9000\n",
            "Epoch 81/100\n",
            "34/34 [==============================] - 0s 9ms/step - loss: 0.0107 - accuracy: 1.0000 - val_loss: 0.5082 - val_accuracy: 0.9000\n",
            "Epoch 82/100\n",
            "34/34 [==============================] - 0s 8ms/step - loss: 0.0108 - accuracy: 1.0000 - val_loss: 0.5050 - val_accuracy: 0.9167\n",
            "Epoch 83/100\n",
            "34/34 [==============================] - 0s 8ms/step - loss: 0.0099 - accuracy: 1.0000 - val_loss: 0.5226 - val_accuracy: 0.9000\n",
            "Epoch 84/100\n",
            "34/34 [==============================] - 0s 8ms/step - loss: 0.0095 - accuracy: 1.0000 - val_loss: 0.4966 - val_accuracy: 0.9083\n",
            "Epoch 85/100\n",
            "34/34 [==============================] - 0s 8ms/step - loss: 0.0093 - accuracy: 1.0000 - val_loss: 0.5111 - val_accuracy: 0.9083\n",
            "Epoch 86/100\n",
            "34/34 [==============================] - 0s 8ms/step - loss: 0.0089 - accuracy: 1.0000 - val_loss: 0.5118 - val_accuracy: 0.9000\n",
            "Epoch 87/100\n",
            "34/34 [==============================] - 0s 8ms/step - loss: 0.0087 - accuracy: 1.0000 - val_loss: 0.5265 - val_accuracy: 0.8917\n",
            "Epoch 88/100\n",
            "34/34 [==============================] - 0s 8ms/step - loss: 0.0084 - accuracy: 1.0000 - val_loss: 0.5339 - val_accuracy: 0.8917\n",
            "Epoch 89/100\n",
            "34/34 [==============================] - 0s 8ms/step - loss: 0.0084 - accuracy: 1.0000 - val_loss: 0.5044 - val_accuracy: 0.9083\n",
            "Epoch 90/100\n",
            "34/34 [==============================] - 0s 8ms/step - loss: 0.0081 - accuracy: 1.0000 - val_loss: 0.5177 - val_accuracy: 0.9083\n",
            "Epoch 91/100\n",
            "34/34 [==============================] - 0s 8ms/step - loss: 0.0076 - accuracy: 1.0000 - val_loss: 0.5065 - val_accuracy: 0.9083\n",
            "Epoch 92/100\n",
            "34/34 [==============================] - 0s 8ms/step - loss: 0.0079 - accuracy: 1.0000 - val_loss: 0.5347 - val_accuracy: 0.9000\n",
            "Epoch 93/100\n",
            "34/34 [==============================] - 0s 8ms/step - loss: 0.0072 - accuracy: 1.0000 - val_loss: 0.5116 - val_accuracy: 0.9000\n",
            "Epoch 94/100\n",
            "34/34 [==============================] - 0s 8ms/step - loss: 0.0070 - accuracy: 1.0000 - val_loss: 0.5230 - val_accuracy: 0.9000\n",
            "Epoch 95/100\n",
            "34/34 [==============================] - 0s 8ms/step - loss: 0.0070 - accuracy: 1.0000 - val_loss: 0.5465 - val_accuracy: 0.8917\n",
            "Epoch 96/100\n",
            "34/34 [==============================] - 0s 8ms/step - loss: 0.0068 - accuracy: 1.0000 - val_loss: 0.5418 - val_accuracy: 0.9000\n",
            "Epoch 97/100\n",
            "34/34 [==============================] - 0s 8ms/step - loss: 0.0067 - accuracy: 1.0000 - val_loss: 0.5414 - val_accuracy: 0.9000\n",
            "Epoch 98/100\n",
            "34/34 [==============================] - 0s 8ms/step - loss: 0.0064 - accuracy: 1.0000 - val_loss: 0.5454 - val_accuracy: 0.9000\n",
            "Epoch 99/100\n",
            "34/34 [==============================] - 0s 8ms/step - loss: 0.0064 - accuracy: 1.0000 - val_loss: 0.5374 - val_accuracy: 0.8833\n",
            "Epoch 100/100\n",
            "34/34 [==============================] - 0s 8ms/step - loss: 0.0061 - accuracy: 1.0000 - val_loss: 0.5390 - val_accuracy: 0.9000\n"
          ]
        },
        {
          "output_type": "execute_result",
          "data": {
            "text/plain": [
              "<keras.src.callbacks.History at 0x791f4a6739a0>"
            ]
          },
          "metadata": {},
          "execution_count": 15
        }
      ],
      "source": [
        "model.compile(loss=\"categorical_crossentropy\", optimizer=SGD(lr=0.01), metrics=[\"accuracy\"])\n",
        "model.fit(X_train, Y_train,\n",
        "          epochs = 100,\n",
        "          validation_data=(X_test, Y_test))"
      ]
    },
    {
      "cell_type": "markdown",
      "metadata": {
        "id": "YxQn2LWY3ek7"
      },
      "source": [
        "Pour finir ce notebook, nous allons sauvegarder les paramètres de notre modèle si nous voulons l'utiliser à nouveau plus tard."
      ]
    },
    {
      "cell_type": "code",
      "execution_count": null,
      "metadata": {
        "id": "bU55lxoZ3ek8"
      },
      "outputs": [],
      "source": [
        "model.save_weights(\"model.h5\")"
      ]
    },
    {
      "cell_type": "code",
      "execution_count": null,
      "metadata": {
        "id": "zUdHE_7e3ek-",
        "colab": {
          "base_uri": "https://localhost:8080/"
        },
        "outputId": "020e3236-095c-4db4-f309-1362424dcf6e"
      },
      "outputs": [
        {
          "output_type": "stream",
          "name": "stdout",
          "text": [
            "mkdir: cannot create directory ‘/content/drive/saved_model’: Operation not supported\n"
          ]
        }
      ],
      "source": [
        "\n",
        "!mkdir -p saved_model"
      ]
    },
    {
      "cell_type": "code",
      "source": [
        "model.save('saved_model/my_model')\n"
      ],
      "metadata": {
        "id": "gEobtiE6vLgv"
      },
      "execution_count": null,
      "outputs": []
    },
    {
      "cell_type": "code",
      "source": [],
      "metadata": {
        "id": "LAWYYOMuvQ5B"
      },
      "execution_count": null,
      "outputs": []
    }
  ],
  "metadata": {
    "accelerator": "GPU",
    "colab": {
      "provenance": []
    },
    "kernelspec": {
      "display_name": "Python 3 (ipykernel)",
      "language": "python",
      "name": "python3"
    },
    "language_info": {
      "codemirror_mode": {
        "name": "ipython",
        "version": 3
      },
      "file_extension": ".py",
      "mimetype": "text/x-python",
      "name": "python",
      "nbconvert_exporter": "python",
      "pygments_lexer": "ipython3",
      "version": "3.11.5"
    }
  },
  "nbformat": 4,
  "nbformat_minor": 0
}