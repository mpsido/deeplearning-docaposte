{
 "cells": [
  {
   "cell_type": "code",
   "execution_count": null,
   "id": "3d04256f-a4f5-4891-9492-d00f7be4e4c5",
   "metadata": {},
   "outputs": [],
   "source": [
    "import numpy as np"
   ]
  },
  {
   "cell_type": "code",
   "execution_count": null,
   "id": "b33108c7-1f05-477a-87ff-e6ee430b6420",
   "metadata": {},
   "outputs": [],
   "source": [
    "T1 = np.arange(1,6)"
   ]
  },
  {
   "cell_type": "code",
   "execution_count": null,
   "id": "a2493fac",
   "metadata": {},
   "outputs": [],
   "source": [
    "T1"
   ]
  },
  {
   "cell_type": "code",
   "execution_count": null,
   "id": "18e08127",
   "metadata": {},
   "outputs": [],
   "source": [
    "T2 = np.array([[10,20],[30,50],[60,70]])"
   ]
  },
  {
   "cell_type": "code",
   "execution_count": null,
   "id": "3c8a2417",
   "metadata": {},
   "outputs": [],
   "source": [
    "T2"
   ]
  },
  {
   "cell_type": "code",
   "execution_count": null,
   "id": "29313120",
   "metadata": {},
   "outputs": [],
   "source": [
    "T3 = np.linspace(2,10,10)"
   ]
  },
  {
   "cell_type": "code",
   "execution_count": null,
   "id": "9856409e",
   "metadata": {},
   "outputs": [],
   "source": [
    "T3 = T3.astype(\"int64\")"
   ]
  },
  {
   "cell_type": "code",
   "execution_count": null,
   "id": "56ed1beb",
   "metadata": {},
   "outputs": [],
   "source": [
    "T3"
   ]
  },
  {
   "cell_type": "code",
   "execution_count": null,
   "id": "d7487518",
   "metadata": {},
   "outputs": [],
   "source": [
    "T = np.array([[10,20,10,7], [8,11,50,44],[21,22,5,13]])"
   ]
  },
  {
   "cell_type": "code",
   "execution_count": null,
   "id": "ab85e1c1",
   "metadata": {},
   "outputs": [],
   "source": [
    "T"
   ]
  },
  {
   "cell_type": "code",
   "execution_count": null,
   "id": "531d6dfb",
   "metadata": {},
   "outputs": [],
   "source": [
    "T[0,:]"
   ]
  },
  {
   "cell_type": "code",
   "execution_count": null,
   "id": "6790810f",
   "metadata": {},
   "outputs": [],
   "source": [
    "T[-1]"
   ]
  },
  {
   "cell_type": "code",
   "execution_count": null,
   "id": "35554e14",
   "metadata": {},
   "outputs": [],
   "source": [
    "T[0:2,1:]"
   ]
  },
  {
   "cell_type": "code",
   "execution_count": null,
   "id": "c34cb5a7",
   "metadata": {},
   "outputs": [],
   "source": [
    "T[T>10]"
   ]
  },
  {
   "cell_type": "code",
   "execution_count": null,
   "id": "b779a352",
   "metadata": {},
   "outputs": [],
   "source": [
    "np.where(T>30, -1, T)"
   ]
  },
  {
   "cell_type": "code",
   "execution_count": null,
   "id": "92b65482",
   "metadata": {},
   "outputs": [],
   "source": [
    "Q=np.array([7,14,10,2])\n",
    "Q"
   ]
  },
  {
   "cell_type": "code",
   "execution_count": null,
   "id": "beb8fd8f",
   "metadata": {},
   "outputs": [],
   "source": [
    "Q1 = np.resize(Q,[2,3])\n",
    "Q1"
   ]
  },
  {
   "cell_type": "code",
   "execution_count": null,
   "id": "9d1a2a73",
   "metadata": {},
   "outputs": [],
   "source": [
    "np.ravel(Q1)"
   ]
  },
  {
   "cell_type": "code",
   "execution_count": null,
   "id": "beefeb8e",
   "metadata": {},
   "outputs": [],
   "source": [
    "np.sum(Q1, axis=0)"
   ]
  }
 ],
 "metadata": {
  "kernelspec": {
   "display_name": "Deep learning",
   "language": "python",
   "name": "deeplearning"
  },
  "language_info": {
   "codemirror_mode": {
    "name": "ipython",
    "version": 3
   },
   "file_extension": ".py",
   "mimetype": "text/x-python",
   "name": "python",
   "nbconvert_exporter": "python",
   "pygments_lexer": "ipython3",
   "version": "3.11.6"
  }
 },
 "nbformat": 4,
 "nbformat_minor": 5
}
